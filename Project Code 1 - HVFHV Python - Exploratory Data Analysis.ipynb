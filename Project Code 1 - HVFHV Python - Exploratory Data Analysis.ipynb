{
 "cells": [
  {
   "cell_type": "code",
   "execution_count": 6,
   "id": "a75ebd62-4dce-4aea-9c01-cbcd73599d57",
   "metadata": {},
   "outputs": [
    {
     "name": "stdout",
     "output_type": "stream",
     "text": [
      "hvfhs_license_num           0\n",
      "dispatching_base_num        0\n",
      "originating_base_num    28030\n",
      "request_datetime            0\n",
      "on_scene_datetime       28030\n",
      "pickup_datetime             0\n",
      "dropoff_datetime            0\n",
      "PULocationID                0\n",
      "DOLocationID                0\n",
      "trip_miles                  0\n",
      "trip_time                   0\n",
      "base_passenger_fare         0\n",
      "tolls                       0\n",
      "bcf                         0\n",
      "sales_tax                   0\n",
      "congestion_surcharge        0\n",
      "airport_fee                 0\n",
      "tips                        0\n",
      "driver_pay                  0\n",
      "shared_request_flag         0\n",
      "shared_match_flag           0\n",
      "access_a_ride_flag          0\n",
      "wav_request_flag            0\n",
      "wav_match_flag              0\n",
      "dtype: int64\n"
     ]
    }
   ],
   "source": [
    "# Import the various modules we need\n",
    "import pandas as pd\n",
    "from pyarrow.parquet import ParquetFile\n",
    "import pyarrow as pa\n",
    "import numpy as np\n",
    "import matplotlib.pyplot as plt\n",
    "\n",
    "# Number of rows to read from the parquet file\n",
    "rows_to_read = 100000\n",
    "# The file name to read\n",
    "parquet_file_name = \"fhvhv_tripdata_2023-01.parquet\"\n",
    "# Set up a pointer to the Parquet file\n",
    "pf = ParquetFile(parquet_file_name)\n",
    "# Take a subset of the rows from the file\n",
    "rows_subset = next(pf.iter_batches(batch_size = rows_to_read))\n",
    "# Convert data to a Pandas dataframe\n",
    "df = pa.Table.from_batches([rows_subset]).to_pandas()\n",
    "\n",
    "# Get information about the dataframe\n",
    "print(df.isna().sum())"
   ]
  },
  {
   "cell_type": "code",
   "execution_count": 2,
   "id": "556d6029-c81a-4819-8b06-9b8cbae12c2c",
   "metadata": {},
   "outputs": [
    {
     "name": "stdout",
     "output_type": "stream",
     "text": [
      "Index(['hvfhs_license_num', 'dispatching_base_num', 'originating_base_num',\n",
      "       'request_datetime', 'on_scene_datetime', 'pickup_datetime',\n",
      "       'dropoff_datetime', 'PULocationID', 'DOLocationID', 'trip_miles',\n",
      "       'trip_time', 'base_passenger_fare', 'tolls', 'bcf', 'sales_tax',\n",
      "       'congestion_surcharge', 'airport_fee', 'tips', 'driver_pay',\n",
      "       'shared_request_flag', 'shared_match_flag', 'access_a_ride_flag',\n",
      "       'wav_request_flag', 'wav_match_flag'],\n",
      "      dtype='object')\n"
     ]
    }
   ],
   "source": [
    "print(df.columns)"
   ]
  },
  {
   "cell_type": "code",
   "execution_count": 3,
   "id": "c0e667b7-ab16-4111-a494-4030e7d67b22",
   "metadata": {},
   "outputs": [
    {
     "name": "stdout",
     "output_type": "stream",
     "text": [
      "                 request_datetime           on_scene_datetime  \\\n",
      "count                        1000                         784   \n",
      "mean   2023-01-01 00:25:05.447000  2023-01-01 00:31:29.102040   \n",
      "min           2022-12-31 23:53:53         2022-12-31 23:58:17   \n",
      "25%    2023-01-01 00:13:22.750000         2023-01-01 00:17:26   \n",
      "50%    2023-01-01 00:24:03.500000         2023-01-01 00:31:30   \n",
      "75%    2023-01-01 00:36:58.250000         2023-01-01 00:45:54   \n",
      "max           2023-01-01 01:00:00         2023-01-01 00:59:52   \n",
      "std                           NaN                         NaN   \n",
      "\n",
      "                  pickup_datetime            dropoff_datetime  PULocationID  \\\n",
      "count                        1000                        1000   1000.000000   \n",
      "mean   2023-01-01 00:32:29.108000  2023-01-01 00:50:37.701000    142.646000   \n",
      "min           2023-01-01 00:00:11         2023-01-01 00:04:10      4.000000   \n",
      "25%    2023-01-01 00:18:52.750000  2023-01-01 00:35:10.750000     79.000000   \n",
      "50%    2023-01-01 00:32:41.500000         2023-01-01 00:50:18    144.000000   \n",
      "75%    2023-01-01 00:46:01.750000  2023-01-01 01:04:50.250000    219.250000   \n",
      "max           2023-01-01 00:59:58         2023-01-01 02:07:12    263.000000   \n",
      "std                           NaN                         NaN     75.802392   \n",
      "\n",
      "       DOLocationID   trip_miles    trip_time  base_passenger_fare  \\\n",
      "count   1000.000000  1000.000000  1000.000000           1000.00000   \n",
      "mean     146.367000     4.917020  1088.601000             29.77166   \n",
      "min        4.000000     0.280000    81.000000              6.20000   \n",
      "25%       79.000000     1.710000   603.000000             15.36250   \n",
      "50%      145.000000     3.185000   920.000000             24.05000   \n",
      "75%      226.000000     6.160000  1394.250000             36.80250   \n",
      "max      265.000000    52.710000  4579.000000            236.15000   \n",
      "std       79.345359     5.228584   695.181076             22.68950   \n",
      "\n",
      "             tolls          bcf    sales_tax  congestion_surcharge  \\\n",
      "count  1000.000000  1000.000000  1000.000000           1000.000000   \n",
      "mean      1.023210     0.919810     2.502930              1.317250   \n",
      "min       0.000000     0.170000     0.000000              0.000000   \n",
      "25%       0.000000     0.460000     1.270000              0.000000   \n",
      "50%       0.000000     0.730000     2.060000              0.000000   \n",
      "75%       0.000000     1.130000     3.220000              2.750000   \n",
      "max      41.970000     7.080000    20.960000              2.750000   \n",
      "std       3.939173     0.709651     1.909601              1.368453   \n",
      "\n",
      "       airport_fee         tips   driver_pay  \n",
      "count  1000.000000  1000.000000  1000.000000  \n",
      "mean      0.025000     1.223990    21.965240  \n",
      "min       0.000000     0.000000     0.000000  \n",
      "25%       0.000000     0.000000    11.820000  \n",
      "50%       0.000000     0.000000    18.730000  \n",
      "75%       0.000000     0.000000    28.800000  \n",
      "max       2.500000    50.000000   141.690000  \n",
      "std       0.248871     3.436548    14.984276  \n"
     ]
    }
   ],
   "source": [
    "print(df.describe())"
   ]
  },
  {
   "cell_type": "code",
   "execution_count": 4,
   "id": "f94487c2-4b0c-45d6-8c50-db658797a2ba",
   "metadata": {},
   "outputs": [
    {
     "name": "stdout",
     "output_type": "stream",
     "text": [
      "<class 'pandas.core.frame.DataFrame'>\n",
      "RangeIndex: 1000 entries, 0 to 999\n",
      "Data columns (total 24 columns):\n",
      " #   Column                Non-Null Count  Dtype         \n",
      "---  ------                --------------  -----         \n",
      " 0   hvfhs_license_num     1000 non-null   object        \n",
      " 1   dispatching_base_num  1000 non-null   object        \n",
      " 2   originating_base_num  784 non-null    object        \n",
      " 3   request_datetime      1000 non-null   datetime64[us]\n",
      " 4   on_scene_datetime     784 non-null    datetime64[us]\n",
      " 5   pickup_datetime       1000 non-null   datetime64[us]\n",
      " 6   dropoff_datetime      1000 non-null   datetime64[us]\n",
      " 7   PULocationID          1000 non-null   int64         \n",
      " 8   DOLocationID          1000 non-null   int64         \n",
      " 9   trip_miles            1000 non-null   float64       \n",
      " 10  trip_time             1000 non-null   int64         \n",
      " 11  base_passenger_fare   1000 non-null   float64       \n",
      " 12  tolls                 1000 non-null   float64       \n",
      " 13  bcf                   1000 non-null   float64       \n",
      " 14  sales_tax             1000 non-null   float64       \n",
      " 15  congestion_surcharge  1000 non-null   float64       \n",
      " 16  airport_fee           1000 non-null   float64       \n",
      " 17  tips                  1000 non-null   float64       \n",
      " 18  driver_pay            1000 non-null   float64       \n",
      " 19  shared_request_flag   1000 non-null   object        \n",
      " 20  shared_match_flag     1000 non-null   object        \n",
      " 21  access_a_ride_flag    1000 non-null   object        \n",
      " 22  wav_request_flag      1000 non-null   object        \n",
      " 23  wav_match_flag        1000 non-null   object        \n",
      "dtypes: datetime64[us](4), float64(9), int64(3), object(8)\n",
      "memory usage: 187.6+ KB\n",
      "None\n"
     ]
    }
   ],
   "source": [
    "print(df.info())"
   ]
  },
  {
   "cell_type": "code",
   "execution_count": 5,
   "id": "6926a954-9738-4401-a9b3-27ea0f60f43f",
   "metadata": {},
   "outputs": [
    {
     "data": {
      "text/plain": [
       "hvfhs_license_num       1000\n",
       "dispatching_base_num    1000\n",
       "originating_base_num     784\n",
       "request_datetime        1000\n",
       "on_scene_datetime        784\n",
       "pickup_datetime         1000\n",
       "dropoff_datetime        1000\n",
       "PULocationID            1000\n",
       "DOLocationID            1000\n",
       "trip_miles              1000\n",
       "trip_time               1000\n",
       "base_passenger_fare     1000\n",
       "tolls                   1000\n",
       "bcf                     1000\n",
       "sales_tax               1000\n",
       "congestion_surcharge    1000\n",
       "airport_fee             1000\n",
       "tips                    1000\n",
       "driver_pay              1000\n",
       "shared_request_flag     1000\n",
       "shared_match_flag       1000\n",
       "access_a_ride_flag      1000\n",
       "wav_request_flag        1000\n",
       "wav_match_flag          1000\n",
       "dtype: int64"
      ]
     },
     "execution_count": 5,
     "metadata": {},
     "output_type": "execute_result"
    }
   ],
   "source": [
    "df.count()"
   ]
  },
  {
   "cell_type": "code",
   "execution_count": 5,
   "id": "f4276ee7-8e98-45f1-89dd-e6acfebc8302",
   "metadata": {},
   "outputs": [
    {
     "data": {
      "text/plain": [
       "on_scene_datetime\n",
       "2023-01-01 01:49:42    27\n",
       "2023-01-01 01:37:57    23\n",
       "2023-01-01 00:42:21    23\n",
       "2023-01-01 00:35:19    23\n",
       "2023-01-01 01:46:15    23\n",
       "                       ..\n",
       "2023-01-01 00:00:05     1\n",
       "2022-12-31 23:58:39     1\n",
       "2022-12-31 23:59:23     1\n",
       "2022-12-31 23:58:06     1\n",
       "2023-01-01 01:59:27     1\n",
       "Name: count, Length: 7288, dtype: int64"
      ]
     },
     "execution_count": 5,
     "metadata": {},
     "output_type": "execute_result"
    }
   ],
   "source": [
    "df['on_scene_datetime'].value_counts()"
   ]
  },
  {
   "cell_type": "code",
   "execution_count": 6,
   "id": "9ca3533c-ab20-4f1b-8a3e-9603b6c8f37d",
   "metadata": {},
   "outputs": [
    {
     "name": "stdout",
     "output_type": "stream",
     "text": [
      "2022-12-31 20:30:00\n",
      "2023-01-01 02:15:00\n"
     ]
    }
   ],
   "source": [
    "print(df['request_datetime'].min())\n",
    "print(df['request_datetime'].max())"
   ]
  },
  {
   "cell_type": "code",
   "execution_count": 7,
   "id": "57ffe198-dc66-4891-880f-b6c48967de20",
   "metadata": {},
   "outputs": [
    {
     "name": "stdout",
     "output_type": "stream",
     "text": [
      "2022-12-31 21:23:03\n",
      "2023-01-01 01:59:59\n"
     ]
    }
   ],
   "source": [
    "print(df['on_scene_datetime'].min())\n",
    "print(df['on_scene_datetime'].max())"
   ]
  },
  {
   "cell_type": "code",
   "execution_count": 8,
   "id": "ff5b31cb-4160-4d00-8093-4b6715cdd2e8",
   "metadata": {},
   "outputs": [
    {
     "name": "stdout",
     "output_type": "stream",
     "text": [
      "2023-01-01 00:00:00\n",
      "2023-01-01 01:59:59\n"
     ]
    }
   ],
   "source": [
    "print(df['pickup_datetime'].min())\n",
    "print(df['pickup_datetime'].max())"
   ]
  },
  {
   "cell_type": "code",
   "execution_count": 9,
   "id": "249bd66d-10ca-48ba-b780-254b6cef8f9e",
   "metadata": {},
   "outputs": [
    {
     "name": "stdout",
     "output_type": "stream",
     "text": [
      "2023-01-01 00:02:27\n",
      "2023-01-01 03:46:34\n"
     ]
    }
   ],
   "source": [
    "print(df['dropoff_datetime'].min())\n",
    "print(df['dropoff_datetime'].max())"
   ]
  },
  {
   "cell_type": "code",
   "execution_count": 14,
   "id": "4ff18d6a-fd58-42f9-adf5-7584ba9395ce",
   "metadata": {},
   "outputs": [
    {
     "name": "stdout",
     "output_type": "stream",
     "text": [
      "100000\n",
      "0        N\n",
      "1        N\n",
      "2        N\n",
      "3        N\n",
      "4        N\n",
      "        ..\n",
      "99995    N\n",
      "99996    N\n",
      "99997    N\n",
      "99998    N\n",
      "99999    N\n",
      "Name: wav_request_flag, Length: 100000, dtype: object\n"
     ]
    }
   ],
   "source": [
    "# Import the various modules we need\n",
    "import pandas as pd\n",
    "from pyarrow.parquet import ParquetFile\n",
    "import pyarrow as pa\n",
    "import numpy as np\n",
    "\n",
    "# Number of rows to read from the parquet file\n",
    "rows_to_read = 100000\n",
    "# The file name to read\n",
    "parquet_file_name = \"fhvhv_tripdata_2023-01.parquet\"\n",
    "# Set up a pointer to the Parquet file\n",
    "pf = ParquetFile(parquet_file_name)\n",
    "# Take a subset of the rows from the file\n",
    "rows_subset = next(pf.iter_batches(batch_size = rows_to_read))\n",
    "# CConvert data to a Pandas dataframe\n",
    "df = pa.Table.from_batches([rows_subset]).to_pandas()\n",
    "\n",
    "print(df['wav_request_flag'].count())\n",
    "print(df['wav_request_flag'])"
   ]
  },
  {
   "cell_type": "code",
   "execution_count": 8,
   "id": "1ac7e469-83a9-4cc4-8813-b9da360e97fb",
   "metadata": {},
   "outputs": [
    {
     "data": {
      "text/plain": [
       "0        5.22\n",
       "1        0.00\n",
       "2        0.00\n",
       "3        0.00\n",
       "4        0.00\n",
       "         ... \n",
       "99995    0.00\n",
       "99996    0.00\n",
       "99997    0.00\n",
       "99998    1.00\n",
       "99999    0.00\n",
       "Name: tips, Length: 100000, dtype: float64"
      ]
     },
     "execution_count": 8,
     "metadata": {},
     "output_type": "execute_result"
    }
   ],
   "source": [
    "df['tips']"
   ]
  },
  {
   "cell_type": "code",
   "execution_count": 8,
   "id": "a21646da-3cb1-4495-ae70-aeb5d913b8ed",
   "metadata": {},
   "outputs": [
    {
     "name": "stdout",
     "output_type": "stream",
     "text": [
      "Average tip: 1.26\n",
      "Min tip: 0.00\n",
      "Max tip: 98.00\n"
     ]
    }
   ],
   "source": [
    "print(f\"Average tip: {df['tips'].mean():.2f}\")\n",
    "print(f\"Min tip: {df['tips'].min():.2f}\")\n",
    "print(f\"Max tip: {df['tips'].max():.2f}\")"
   ]
  },
  {
   "cell_type": "code",
   "execution_count": 3,
   "id": "2afd0c61-7599-4bd8-b4f0-e217a0e044d1",
   "metadata": {},
   "outputs": [
    {
     "name": "stdout",
     "output_type": "stream",
     "text": [
      "[['HV0003' 'B03404' 'B03404' ... ' ' 'N' 'N']\n",
      " ['HV0003' 'B03404' 'B03404' ... ' ' 'N' 'N']\n",
      " ['HV0003' 'B03404' 'B03404' ... ' ' 'N' 'N']\n",
      " ...\n",
      " ['HV0005' 'B03406' None ... 'N' 'N' 'N']\n",
      " ['HV0005' 'B03406' None ... 'N' 'N' 'N']\n",
      " ['HV0003' 'B03404' 'B03404' ... ' ' 'N' 'N']]\n"
     ]
    }
   ],
   "source": [
    "# Import the various modules we need\n",
    "import pandas as pd\n",
    "from pyarrow.parquet import ParquetFile\n",
    "import pyarrow as pa\n",
    "import numpy as np\n",
    "import matplotlib.pyplot as plt\n",
    "\n",
    "# Number of rows to read from the parquet file\n",
    "rows_to_read = 100\n",
    "# The file name to read\n",
    "parquet_file_name = \"fhvhv_tripdata_2023-01.parquet\"\n",
    "# Set up a pointer to the Parquet file\n",
    "pf = ParquetFile(parquet_file_name)\n",
    "# Take a subset of the rows from the file\n",
    "rows_subset = next(pf.iter_batches(batch_size = rows_to_read))\n",
    "# CConvert data to a Pandas dataframe\n",
    "df = pa.Table.from_batches([rows_subset]).to_pandas()\n",
    "\n",
    "print(df.values)"
   ]
  },
  {
   "cell_type": "code",
   "execution_count": 7,
   "id": "7ae88cb7-a371-4d81-b404-4c5c3a8d0dfc",
   "metadata": {},
   "outputs": [
    {
     "data": {
      "image/png": "[encoded data removed]",
      "text/plain": [
       "<Figure size 640x480 with 1 Axes>"
      ]
     },
     "metadata": {},
     "output_type": "display_data"
    }
   ],
   "source": [
    "# Import the various modules we need\n",
    "import pandas as pd\n",
    "from pyarrow.parquet import ParquetFile\n",
    "import pyarrow as pa\n",
    "import numpy as np\n",
    "import matplotlib.pyplot as plt\n",
    "\n",
    "# Number of rows to read from the parquet file\n",
    "rows_to_read = 100000\n",
    "# The file name to read\n",
    "parquet_file_name = \"fhvhv_tripdata_2023-01.parquet\"\n",
    "# Set up a pointer to the Parquet file\n",
    "pf = ParquetFile(parquet_file_name)\n",
    "# Take a subset of the rows from the file\n",
    "rows_subset = next(pf.iter_batches(batch_size = rows_to_read))\n",
    "# CConvert data to a Pandas dataframe\n",
    "df = pa.Table.from_batches([rows_subset]).to_pandas()\n",
    "\n",
    "df.plot(kind='scatter', x='trip_miles', y='tips')\n",
    "\n",
    "plt.show()"
   ]
  },
  {
   "cell_type": "code",
   "execution_count": null,
   "id": "81f5fe22-36fb-4028-b9f1-3045bc565c90",
   "metadata": {},
   "outputs": [],
   "source": [
    "# Import the various modules we need\n",
    "import pandas as pd\n",
    "from pyarrow.parquet import ParquetFile\n",
    "import pyarrow as pa\n",
    "import numpy as np\n",
    "import matplotlib.pyplot as plt\n",
    "\n",
    "# Number of rows to read from the parquet file\n",
    "rows_to_read = 100000\n",
    "# The file name to read\n",
    "parquet_file_name = \"fhvhv_tripdata_2023-01.parquet\"\n",
    "# Set up a pointer to the Parquet file\n",
    "pf = ParquetFile(parquet_file_name)\n",
    "# Take a subset of the rows from the file\n",
    "rows_subset = next(pf.iter_batches(batch_size = rows_to_read))\n",
    "# CConvert data to a Pandas dataframe\n",
    "df = pa.Table.from_batches([rows_subset]).to_pandas()\n",
    "\n",
    "\n",
    "print(len(df[(df['shared_request_flag'] == 'Y') & (df['shared_request_flag'] == 'N')]))"
   ]
  }
 ],
 "metadata": {
  "kernelspec": {
   "display_name": "Python 3 (ipykernel)",
   "language": "python",
   "name": "python3"
  },
  "language_info": {
   "codemirror_mode": {
    "name": "ipython",
    "version": 3
   },
   "file_extension": ".py",
   "mimetype": "text/x-python",
   "name": "python",
   "nbconvert_exporter": "python",
   "pygments_lexer": "ipython3",
   "version": "3.10.9"
  }
 },
 "nbformat": 4,
 "nbformat_minor": 5
}
