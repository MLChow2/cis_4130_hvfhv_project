{
 "cells": [
  {
   "cell_type": "code",
   "execution_count": 0,
   "metadata": {
    "application/vnd.databricks.v1+cell": {
     "cellMetadata": {
      "byteLimit": 2048000,
      "rowLimit": 10000
     },
     "inputWidgets": {},
     "nuid": "ebed8178-ffa1-407c-8a1e-0170cb2f6b79",
     "showTitle": false,
     "title": ""
    }
   },
   "outputs": [],
   "source": [
    "import os\n",
    "# To work with Amazon S3 storage, set the following variables using your AWS Access Key and Secret Key\n",
    "# Set the Region to where your files are stored in S3.\n",
    "access_key = 'xxxxxxxxxxxxxx'\n",
    "secret_key = 'xxxxxxxxxxxxxxxxxxxxxxxxxxxx'\n",
    "# Set the environment variables so boto3 can pick them up later\n",
    "os.environ['AWS_ACCESS_KEY_ID'] = access_key\n",
    "os.environ['AWS_SECRET_ACCESS_KEY'] = secret_key\n",
    "encoded_secret_key = secret_key.replace(\"/\", \"%2F\")\n",
    "aws_region = \"us-east-2\"\n",
    "\n",
    "# Update the Spark options to work with our AWS Credentials\n",
    "sc._jsc.hadoopConfiguration().set(\"fs.s3a.access.key\", access_key)\n",
    "sc._jsc.hadoopConfiguration().set(\"fs.s3a.secret.key\", secret_key)\n",
    "sc._jsc.hadoopConfiguration().set(\"fs.s3a.endpoint\", \"s3.\" + aws_region + \".amazonaws.com\")\n",
    "\n",
    "clean_sdf = spark.read.parquet('s3a://hvfhv-project-mc/raw/cleaned_fhvhv_tripdata_2023-01.parquet')"
   ]
  },
  {
   "cell_type": "code",
   "execution_count": 0,
   "metadata": {
    "application/vnd.databricks.v1+cell": {
     "cellMetadata": {
      "byteLimit": 2048000,
      "rowLimit": 10000
     },
     "inputWidgets": {},
     "nuid": "2450edaf-9fcd-4df1-981f-d3278cc78b6c",
     "showTitle": false,
     "title": ""
    }
   },
   "outputs": [],
   "source": [
    "from pyspark.sql.functions import *\n",
    "from pyspark.ml.feature import StringIndexer, OneHotEncoder, VectorAssembler, Binarizer, Bucketizer, MinMaxScaler\n",
    "from pyspark.ml.stat import Correlation, ChiSquareTest, Summarizer\n",
    "from pyspark.ml import Pipeline\n",
    "\n",
    "# Import the logistic regression model\n",
    "from pyspark.ml.classification import LogisticRegression, LogisticRegressionModel\n",
    "\n",
    "# Import the evaluation module\n",
    "from pyspark.ml.evaluation import *\n",
    "\n",
    "# Import the model tuning module\n",
    "from pyspark.ml.tuning import *\n",
    "\n",
    "# Import other modeling modules\n",
    "import numpy as np\n",
    "import matplotlib.pyplot as plt\n",
    "import seaborn as sns\n",
    "\n",
    "# Set the Spark logging level to only show errors\n",
    "sc.setLogLevel(\"ERROR\")"
   ]
  },
  {
   "cell_type": "code",
   "execution_count": 0,
   "metadata": {
    "application/vnd.databricks.v1+cell": {
     "cellMetadata": {
      "byteLimit": 2048000,
      "rowLimit": 10000
     },
     "inputWidgets": {},
     "nuid": "337c7877-aa8c-40b7-a683-acae937ba362",
     "showTitle": false,
     "title": ""
    }
   },
   "outputs": [
    {
     "output_type": "stream",
     "name": "stdout",
     "output_type": "stream",
     "text": [
      "+-------------------+-------------------+-------------------+-------------------+----------+--------------+-------------------+-----+----+---------+--------------------+-----------+-----+---------------+-----------+------------------+---------------+--------+------------------+------------------+-------------------+\n|   request_datetime|  on_scene_datetime|    pickup_datetime|   dropoff_datetime|trip_miles|trip_time_secs|base_passenger_fare|tolls| bcf|sales_tax|congestion_surcharge|airport_fee| tips|total_wait_secs|pickup_hour|pickup_time_of_day|day_of_week_num|day_name|weekday_or_weekend|        total_fare|        tip_percent|\n+-------------------+-------------------+-------------------+-------------------+----------+--------------+-------------------+-----+----+---------+--------------------+-----------+-----+---------------+-----------+------------------+---------------+--------+------------------+------------------+-------------------+\n|2023-01-01 00:18:06|2023-01-01 00:19:24|2023-01-01 00:19:38|2023-01-01 00:48:07|      0.94|        1709.0|              25.95|  0.0|0.78|      2.3|                2.75|        0.0| 5.22|           92.0|        0.0|     Early Morning|            1.0|  Monday|               0.0|             31.78|0.16425424795468846|\n|2023-01-01 00:48:42|2023-01-01 00:56:20|2023-01-01 00:58:39|2023-01-01 01:33:08|      2.78|        2069.0|              60.14|  0.0| 1.8|     5.34|                2.75|        0.0|  0.0|          597.0|        0.0|     Early Morning|            1.0|  Monday|               0.0|             70.03|                0.0|\n|2023-01-01 00:15:35|2023-01-01 00:20:14|2023-01-01 00:20:27|2023-01-01 00:37:54|      8.81|        1047.0|              24.37|  0.0|0.73|     2.16|                 0.0|        0.0|  0.0|          292.0|        0.0|     Early Morning|            1.0|  Monday|               0.0|             27.26|                0.0|\n|2023-01-01 00:35:24|2023-01-01 00:39:30|2023-01-01 00:41:05|2023-01-01 00:48:16|      0.67|         431.0|               13.8|  0.0|0.41|     1.22|                 0.0|        0.0|  0.0|          341.0|        0.0|     Early Morning|            1.0|  Monday|               0.0|15.430000000000001|                0.0|\n|2023-01-01 00:43:15|2023-01-01 00:51:10|2023-01-01 00:52:47|2023-01-01 01:04:51|      4.38|         724.0|              20.49|  0.0|0.61|     1.82|                 0.0|        0.0|  0.0|          572.0|        0.0|     Early Morning|            1.0|  Monday|               0.0|22.919999999999998|                0.0|\n|2023-01-01 00:06:54|2023-01-01 00:08:59|2023-01-01 00:10:29|2023-01-01 00:18:22|      1.89|         473.0|              14.51|  0.0|0.44|     1.29|                2.75|        0.0|  0.0|          215.0|        0.0|     Early Morning|            1.0|  Monday|               0.0|             18.99|                0.0|\n|2023-01-01 00:15:22|2023-01-01 00:21:39|2023-01-01 00:22:10|2023-01-01 00:33:14|      2.65|         664.0|               13.0|  0.0|0.39|     1.15|                2.75|        0.0|  0.0|          408.0|        0.0|     Early Morning|            1.0|  Monday|               0.0|             17.29|                0.0|\n|2023-01-01 00:26:02|2023-01-01 00:39:09|2023-01-01 00:39:09|2023-01-01 01:03:50|      3.26|        1481.0|              30.38|  0.0|0.91|      2.7|                2.75|        0.0|  0.0|          787.0|        0.0|     Early Morning|            1.0|  Monday|               0.0|             36.74|                0.0|\n|2023-01-01 00:09:35|2023-01-01 00:14:11|2023-01-01 00:14:35|2023-01-01 00:49:13|      3.76|        2078.0|              19.49|  0.0|0.58|     1.73|                2.75|        0.0|  0.0|          300.0|        0.0|     Early Morning|            1.0|  Monday|               0.0|24.549999999999997|                0.0|\n|2023-01-01 00:42:57|2023-01-01 00:52:03|2023-01-01 00:52:15|2023-01-01 01:31:11|      7.07|        2336.0|              58.25|  0.0|1.75|     5.17|                2.75|        0.0|13.58|          558.0|        0.0|     Early Morning|            1.0|  Monday|               0.0|             67.92|0.19994110718492344|\n|2023-01-01 00:17:39|2023-01-01 00:23:21|2023-01-01 00:24:48|2023-01-01 00:37:39|      2.15|         771.0|              13.04|  0.0|0.39|     1.16|                 0.0|        0.0|  3.0|          429.0|        0.0|     Early Morning|            1.0|  Monday|               0.0|             14.59|0.20562028786840303|\n|2023-01-01 00:41:11|2023-01-01 00:45:57|2023-01-01 00:46:20|2023-01-01 00:52:51|      1.09|         391.0|              19.59|  0.0|0.59|     1.74|                 0.0|        0.0|  0.0|          309.0|        0.0|     Early Morning|            1.0|  Monday|               0.0|21.919999999999998|                0.0|\n|2023-01-01 00:44:24|2023-01-01 00:53:17|2023-01-01 00:53:40|2023-01-01 01:31:23|     11.08|        2263.0|              78.77|  0.0|2.36|     6.99|                2.75|        0.0|  0.0|          556.0|        0.0|     Early Morning|            1.0|  Monday|               0.0| 90.86999999999999|                0.0|\n|2023-01-01 00:13:51|2023-01-01 00:26:55|2023-01-01 00:28:05|2023-01-01 00:37:45|      1.65|         580.0|               9.47|  0.0|0.28|     0.84|                 0.0|        0.0|  0.0|          854.0|        0.0|     Early Morning|            1.0|  Monday|               0.0|             10.59|                0.0|\n|2023-01-01 00:30:12|2023-01-01 00:38:51|2023-01-01 00:40:51|2023-01-01 00:54:09|      2.02|         798.0|              21.48|  0.0|0.64|     1.91|                 0.0|        0.0|  0.0|          639.0|        0.0|     Early Morning|            1.0|  Monday|               0.0|             24.03|                0.0|\n|2023-01-01 00:50:41|2023-01-01 00:59:03|2023-01-01 00:59:56|2023-01-01 01:18:47|      3.83|        1131.0|              18.74|  0.0|0.56|     1.66|                 0.0|        0.0|  0.0|          555.0|        0.0|     Early Morning|            1.0|  Monday|               0.0|20.959999999999997|                0.0|\n|2023-01-01 00:13:42|2023-01-01 00:16:43|2023-01-01 00:18:26|2023-01-01 00:30:48|      2.45|         742.0|              12.47|  0.0|0.37|     1.11|                 0.0|        0.0|  0.0|          284.0|        0.0|     Early Morning|            1.0|  Monday|               0.0|             13.95|                0.0|\n|2023-01-01 00:20:13|2023-01-01 00:31:59|2023-01-01 00:33:32|2023-01-01 00:48:48|      2.79|         916.0|              17.31|  0.0|0.52|     1.54|                 0.0|        0.0|  0.0|          799.0|        0.0|     Early Morning|            1.0|  Monday|               0.0|19.369999999999997|                0.0|\n|2023-01-01 00:48:48|2023-01-01 00:58:31|2023-01-01 00:59:04|2023-01-01 01:13:50|      3.95|         886.0|              40.67|  0.0|1.22|     3.61|                 0.0|        0.0|  0.0|          616.0|        0.0|     Early Morning|            1.0|  Monday|               0.0|              45.5|                0.0|\n|2023-01-01 00:38:55|2023-01-01 00:47:29|2023-01-01 00:48:17|2023-01-01 01:42:33|     25.01|        3256.0|              50.88|  0.0|1.53|     4.52|                 0.0|        0.0| 5.69|          562.0|        0.0|     Early Morning|            1.0|  Monday|               0.0| 56.93000000000001|0.09994730370630599|\n+-------------------+-------------------+-------------------+-------------------+----------+--------------+-------------------+-----+----+---------+--------------------+-----------+-----+---------------+-----------+------------------+---------------+--------+------------------+------------------+-------------------+\nonly showing top 20 rows\n\n"
     ]
    }
   ],
   "source": [
    "# FEATURE ENGINEERING SECTION\n",
    "\n",
    "# Rename trip_time to trip_time_secs\n",
    "# Convert trip_time_secs from long to double\n",
    "\n",
    "trip_time_sec = clean_sdf.withColumnRenamed('trip_time', 'trip_time_secs')\n",
    "trip_time_sec_sdf = trip_time_sec.withColumn('trip_time_secs', col('trip_time_secs').cast('double'))\n",
    "\n",
    "# Subtract request_datetime from pickup_datetime to get total wait time from after request was submitted, in seconds. Convert to double.\n",
    "\n",
    "total_wait_secs_sdf = trip_time_sec_sdf.withColumn('total_wait_secs', col('pickup_datetime').cast('double') - col('request_datetime').cast('double'))\n",
    "\n",
    "# Extract the hour from pickup_datetime to know what time of day the ride occurred. Convert to double.\n",
    "\n",
    "pickup_hour_sdf = total_wait_secs_sdf.withColumn('pickup_hour', hour(col('pickup_datetime')).cast('double'))\n",
    "\n",
    "# Bucketize pickup_hour by 6 hour periods: <=6 = Early Morning, <12 = Morning, ==12 = Noon, <=18 = Afternoon, <=24 = Night\n",
    "\n",
    "bucketized_pickup_hour_sdf = pickup_hour_sdf.withColumn('pickup_time_of_day', when(col('pickup_hour') <= 6, 'Early Morning').when(col('pickup_hour') < 12, \"Morning\").when(col('pickup_hour') == 12, 'Noon').when(col('pickup_hour') <= 18, \"Afternoon\").when(col('pickup_hour') <= 24, \"Night\"))\n",
    "\n",
    "# Extract the day of the week from pickup_datetime to know what day the ride occurred. Convert to double.\n",
    "\n",
    "day_of_week_num_sdf = bucketized_pickup_hour_sdf.withColumn('day_of_week_num', dayofweek(col('pickup_datetime')).cast('double'))\n",
    "\n",
    "# Create a column called day_name to specify the day name associated with day_of_week_num\n",
    "\n",
    "bucketized_day_name_sdf = day_of_week_num_sdf.withColumn('day_name', when(col('day_of_week_num') == 1, 'Monday').when(col('day_of_week_num') == 2, 'Tuesday').when(col('day_of_week_num') == 3, 'Wednesday').when(col('day_of_week_num') == 4, 'Thursday').when(col('day_of_week_num') == 5, 'Friday').when(col('day_of_week_num') == 6, 'Saturday').when(col('day_of_week_num') == 7, 'Sunday'))\n",
    "\n",
    "# Binarize day_of_week to 0 or 1, where 0.0 = Weekday, 1.0 = Weekend\n",
    "\n",
    "binarizer_day = Binarizer(threshold=5.0, inputCol='day_of_week_num', outputCol='weekday_or_weekend')\n",
    "weekday_or_weekend_sdf = binarizer_day.transform(bucketized_day_name_sdf)\n",
    "\n",
    "# Create a column called total_fare that includes all of the ride costs\n",
    "\n",
    "total_fare_sdf = weekday_or_weekend_sdf.withColumn('total_fare', col('base_passenger_fare') + col('tolls') + col('bcf') + col('sales_tax') + col('congestion_surcharge') + col('airport_fee'))\n",
    "\n",
    "# Drop all rows where total_fare is equal to 0.0 to avoid a divide by zero error\n",
    "# Create a column called tip_percent that is tips divided by total_fare to get the tip percent\n",
    "\n",
    "non_zero_fare = total_fare_sdf.where(col('total_fare') > 0.0)\n",
    "tip_percent_sdf = non_zero_fare.withColumn('tip_percent', col('tips') / col('total_fare'))\n",
    "\n",
    "tip_percent_sdf.show()"
   ]
  },
  {
   "cell_type": "code",
   "execution_count": 0,
   "metadata": {
    "application/vnd.databricks.v1+cell": {
     "cellMetadata": {
      "byteLimit": 2048000,
      "rowLimit": 10000
     },
     "inputWidgets": {},
     "nuid": "51c7ca32-4f08-4dba-9739-695477ad3fcb",
     "showTitle": false,
     "title": ""
    }
   },
   "outputs": [],
   "source": [
    "# PIPELINE CREATION SECTION\n",
    "\n",
    "# Create a label. =1 if >= 0.01, =0 otherwise\n",
    "binarizer_tip = Binarizer(threshold=0.01, inputCol='tip_percent', outputCol='label')\n",
    "tip_label = binarizer_tip.transform(tip_percent_sdf)\n",
    "\n",
    "# Create an indexer for the string based columns\n",
    "indexer = StringIndexer(inputCols=[\"pickup_time_of_day\", \"day_name\"], outputCols=[\"pickup_time_of_day_index\", \"day_name_index\"])\n",
    "\n",
    "# Create an encoder for the three indexes and the age integer column\n",
    "encoder = OneHotEncoder(inputCols=['pickup_time_of_day_index', 'day_name_index'], outputCols=['pickup_time_of_day_vector', 'day_name_vector'], dropLast=False)\n",
    "\n",
    "# Create an assembler for the individual feature vectors and the float/double columns\n",
    "assembler = VectorAssembler(inputCols=['trip_miles', 'trip_time_secs', 'total_wait_secs', 'pickup_time_of_day_vector', 'day_name_vector', 'weekday_or_weekend', 'total_fare'], outputCol='features')\n",
    "\n",
    "# Scale the features columns so the min = 0.0 and max = 1.0\n",
    "min_max_scaler = MinMaxScaler(inputCol='features', outputCol='scaled_features')\n",
    "\n",
    "# # Create the pipeline\n",
    "# hvfhv_pipe = Pipeline(stages=[indexer, encoder, assembler, min_max_scaler])\n",
    "\n",
    "# # Call .fit to transform the data\n",
    "# transformed_sdf = hvfhv_pipe.fit(tip_label).transform(tip_label)\n",
    "\n",
    "# # Review the transformed features\n",
    "# transformed_sdf.select('trip_miles', 'trip_time_secs', 'total_wait_secs', 'pickup_time_of_day', 'day_name', 'weekday_or_weekend', 'total_fare', 'tip_percent', 'label', 'features', 'scaled_features').show(truncate=False)"
   ]
  },
  {
   "cell_type": "code",
   "execution_count": 0,
   "metadata": {
    "application/vnd.databricks.v1+cell": {
     "cellMetadata": {
      "byteLimit": 2048000,
      "rowLimit": 10000
     },
     "inputWidgets": {},
     "nuid": "4081fd29-fdf9-426c-86d4-572c2f64947b",
     "showTitle": false,
     "title": ""
    }
   },
   "outputs": [
    {
     "output_type": "stream",
     "name": "stdout",
     "output_type": "stream",
     "text": [
      "Number of models to be tested:  4\n"
     ]
    }
   ],
   "source": [
    "# Create a LogisticRegression Estimator\n",
    "lr = LogisticRegression()\n",
    "\n",
    "hvfhv_pipe = Pipeline(stages=[indexer, encoder, assembler, min_max_scaler, lr])\n",
    "\n",
    "# Split the data into 70% training and 30% test sets\n",
    "trainingData, testData = tip_label.randomSplit([0.7, 0.3], seed=42)\n",
    "\n",
    "# Create a grid to hold hyperparameters\n",
    "grid = ParamGridBuilder()\n",
    "grid = grid.addGrid(lr.regParam, [0.0, 1.0])\n",
    "grid = grid.addGrid(lr.elasticNetParam, [0, 1])\n",
    "\n",
    "# Build the parameter grid\n",
    "grid = grid.build()\n",
    "\n",
    "# How many models to be tested\n",
    "print('Number of models to be tested: ', len(grid))\n",
    "\n",
    "# Create a BinaryClassificationEvaluator to evaluate how well the model works\n",
    "evaluator = BinaryClassificationEvaluator(metricName=\"areaUnderROC\")\n",
    "# Create the CrossValidator using the hyperparameter grid\n",
    "cv = CrossValidator(estimator=hvfhv_pipe,\n",
    "                    estimatorParamMaps=grid,\n",
    "                    evaluator=evaluator,\n",
    "                    numFolds=3)\n",
    "\n",
    "# Train the models\n",
    "cv  = cv.fit(trainingData)"
   ]
  },
  {
   "cell_type": "code",
   "execution_count": 0,
   "metadata": {
    "application/vnd.databricks.v1+cell": {
     "cellMetadata": {
      "byteLimit": 2048000,
      "rowLimit": 10000
     },
     "inputWidgets": {},
     "nuid": "85cfb0de-e5ec-4763-a9e0-7117a52bf930",
     "showTitle": false,
     "title": ""
    }
   },
   "outputs": [
    {
     "output_type": "stream",
     "name": "stdout",
     "output_type": "stream",
     "text": [
      "AUC: 0.5967993319002812\n+-----+-------+----+\n|label|    0.0| 1.0|\n+-----+-------+----+\n|  0.0|3266899|9535|\n|  1.0| 790598|5243|\n+-----+-------+----+\n\nAccuracy, Precision, Recall, F1 Score\n(0.8035169530544966, 0.3547841385843822, 0.006587999361681542, 0.012935793510884891)\n"
     ]
    }
   ],
   "source": [
    "# Test the predictions\n",
    "predictions = cv.transform(testData)\n",
    "\n",
    "# Calculate AUC\n",
    "auc = evaluator.evaluate(predictions)\n",
    "print(f\"AUC: {auc}\")\n",
    "\n",
    "# Create the confusion matrix\n",
    "predictions.groupby('label').pivot('prediction').count().fillna(0).show()\n",
    "cm = predictions.groupby('label').pivot('prediction').count().fillna(0).collect()\n",
    "\n",
    "def calculate_recall_precision(cm):\n",
    "    tn = cm[0][1]                # True Negative\n",
    "    fp = cm[0][2]                # False Positive\n",
    "    fn = cm[1][1]                # False Negative\n",
    "    tp = cm[1][2]                # True Positive\n",
    "    precision = tp / ( tp + fp )            \n",
    "    recall = tp / ( tp + fn )\n",
    "    accuracy = ( tp + tn ) / ( tp + tn + fp + fn )\n",
    "    f1_score = 2 * ( ( precision * recall ) / ( precision + recall ) )\n",
    "    return accuracy, precision, recall, f1_score\n",
    "\n",
    "print(\"Accuracy, Precision, Recall, F1 Score\")\n",
    "print( calculate_recall_precision(cm) )"
   ]
  },
  {
   "cell_type": "code",
   "execution_count": 0,
   "metadata": {
    "application/vnd.databricks.v1+cell": {
     "cellMetadata": {
      "byteLimit": 2048000,
      "rowLimit": 10000
     },
     "inputWidgets": {},
     "nuid": "af0f58ce-7e14-4109-9c9d-62e5d8bfbfe2",
     "showTitle": false,
     "title": ""
    }
   },
   "outputs": [
    {
     "output_type": "stream",
     "name": "stdout",
     "output_type": "stream",
     "text": [
      "LogisticRegression_af08595af35e__aggregationDepth 2\nLogisticRegression_af08595af35e__elasticNetParam 1.0\nLogisticRegression_af08595af35e__family auto\nLogisticRegression_af08595af35e__featuresCol features\nLogisticRegression_af08595af35e__fitIntercept True\nLogisticRegression_af08595af35e__labelCol label\nLogisticRegression_af08595af35e__maxBlockSizeInMB 0.0\nLogisticRegression_af08595af35e__maxIter 100\nLogisticRegression_af08595af35e__predictionCol prediction\nLogisticRegression_af08595af35e__probabilityCol probability\nLogisticRegression_af08595af35e__rawPredictionCol rawPrediction\nLogisticRegression_af08595af35e__regParam 0.0\nLogisticRegression_af08595af35e__standardization True\nLogisticRegression_af08595af35e__threshold 0.5\nLogisticRegression_af08595af35e__tol 1e-06\n"
     ]
    },
    {
     "output_type": "display_data",
     "data": {
      "image/png": "[encoded data removed]"
     },
     "metadata": {
      "application/vnd.databricks.v1+output": {
       "addedWidgets": {},
       "arguments": {},
       "data": "data:image/png;base64,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\n",
       "datasetInfos": [],
       "metadata": {},
       "removedWidgets": [],
       "type": "image"
      }
     },
     "output_type": "display_data"
    }
   ],
   "source": [
    "# Look at the parameters for the best model that was evaluated from the grid\n",
    "parammap = cv.bestModel.stages[4].extractParamMap()\n",
    "\n",
    "for p, v in parammap.items():\n",
    "    print(p, v)\n",
    "\n",
    "# Grab the model from Stage 3 of the pipeline\n",
    "mymodel = cv.bestModel.stages[4]\n",
    "\n",
    "import matplotlib.pyplot as plt\n",
    "plt.figure(figsize=(5,5))\n",
    "plt.plot(mymodel.summary.roc.select('FPR').collect(),\n",
    "         mymodel.summary.roc.select('TPR').collect())\n",
    "plt.xlabel('False Positive Rate')\n",
    "plt.ylabel('True Positive Rate')\n",
    "plt.title(\"ROC Curve\")\n",
    "plt.savefig(\"roc1.png\")\n",
    "plt.show()"
   ]
  },
  {
   "cell_type": "code",
   "execution_count": 0,
   "metadata": {
    "application/vnd.databricks.v1+cell": {
     "cellMetadata": {
      "byteLimit": 2048000,
      "rowLimit": 10000
     },
     "inputWidgets": {},
     "nuid": "d2c7d55c-e9e7-4c48-95ce-5a97e12bf4f1",
     "showTitle": false,
     "title": ""
    }
   },
   "outputs": [
    {
     "output_type": "stream",
     "name": "stdout",
     "output_type": "stream",
     "text": [
      "Found variable: {'idx': 0, 'name': 'trip_miles'}\nFound variable: {'idx': 1, 'name': 'trip_time_secs'}\nFound variable: {'idx': 2, 'name': 'total_wait_secs'}\nFound variable: {'idx': 16, 'name': 'total_fare'}\nFound variable: {'idx': 3, 'name': 'pickup_time_of_day_vector_Afternoon'}\nFound variable: {'idx': 4, 'name': 'pickup_time_of_day_vector_Night'}\nFound variable: {'idx': 5, 'name': 'pickup_time_of_day_vector_Morning'}\nFound variable: {'idx': 6, 'name': 'pickup_time_of_day_vector_Early Morning'}\nFound variable: {'idx': 7, 'name': 'pickup_time_of_day_vector_Noon'}\nFound variable: {'idx': 8, 'name': 'day_name_vector_Monday'}\nFound variable: {'idx': 9, 'name': 'day_name_vector_Sunday'}\nFound variable: {'idx': 10, 'name': 'day_name_vector_Saturday'}\nFound variable: {'idx': 11, 'name': 'day_name_vector_Wednesday'}\nFound variable: {'idx': 12, 'name': 'day_name_vector_Tuesday'}\nFound variable: {'idx': 13, 'name': 'day_name_vector_Friday'}\nFound variable: {'idx': 14, 'name': 'day_name_vector_Thursday'}\nFound variable: {'idx': 15, 'name': 'weekday_or_weekend'}\nCoefficient 0 trip_miles  -0.03838532011865195\nCoefficient 1 trip_time_secs  -0.00010555317327706853\nCoefficient 2 total_wait_secs  -0.0005333319297088981\nCoefficient 3 pickup_time_of_day_vector_Afternoon  0.0693102754328052\nCoefficient 4 pickup_time_of_day_vector_Night  -0.010387275488883513\nCoefficient 5 pickup_time_of_day_vector_Morning  0.04745552686894221\nCoefficient 6 pickup_time_of_day_vector_Early Morning  -0.21784070415666837\nCoefficient 7 pickup_time_of_day_vector_Noon  0.16311599057283066\nCoefficient 8 day_name_vector_Monday  -0.06726671786840373\nCoefficient 9 day_name_vector_Sunday  0.009452998019287093\nCoefficient 10 day_name_vector_Saturday  -0.013425092642468876\nCoefficient 11 day_name_vector_Wednesday  0.017528352188538078\nCoefficient 12 day_name_vector_Tuesday  0.021146979573787538\nCoefficient 13 day_name_vector_Friday  0.014030674254212868\nCoefficient 14 day_name_vector_Thursday  0.033807148340061384\nCoefficient 15 weekday_or_weekend  -0.0018648747498460007\nCoefficient 16 total_fare  0.021290168063047513\n"
     ]
    }
   ],
   "source": [
    "# Extract the coefficients on each of the variables\n",
    "coeff = mymodel.coefficients.toArray().tolist()\n",
    "\n",
    "# Loop through the features to extract the original column names. Store in the var_index dictionary\n",
    "var_index = dict()\n",
    "for variable_type in ['numeric', 'binary']:\n",
    "    for variable in predictions.schema[\"features\"].metadata[\"ml_attr\"][\"attrs\"][variable_type]:\n",
    "         print(f\"Found variable: {variable}\" )\n",
    "         idx = variable['idx']\n",
    "         name = variable['name']\n",
    "         var_index[idx] = name      # Add the name to the dictionary\n",
    "\n",
    "# Loop through all of the variables found and print out the associated coefficients\n",
    "for i in range(len(var_index)):\n",
    "    print(f\"Coefficient {i} {var_index[i]}  {coeff[i]}\")"
   ]
  },
  {
   "cell_type": "code",
   "execution_count": 0,
   "metadata": {
    "application/vnd.databricks.v1+cell": {
     "cellMetadata": {},
     "inputWidgets": {},
     "nuid": "4a323db4-b93b-45d4-b765-631819def3c0",
     "showTitle": false,
     "title": ""
    }
   },
   "outputs": [],
   "source": [
    "# MODEL EVALUATION SECTION\n",
    "\n",
    "# Save the confusion matrix\n",
    "cm = test_results.groupby('label').pivot('prediction').count().fillna(0).collect()\n",
    "\n",
    "def calculate_recall_precision(cm):\n",
    "    tn = cm[0][1] # True Negative\n",
    "    fp = cm[0][2] # False Positive\n",
    "    fn = cm[1][1] # False Negative\n",
    "    tp = cm[1][2] # True Positive\n",
    "    precision = tp / ( tp + fp )\n",
    "    recall = tp / ( tp + fn )\n",
    "    accuracy = ( tp + tn ) / ( tp + tn + fp + fn )\n",
    "    f1_score = 2 * ( ( precision * recall ) / ( precision + recall ) )\n",
    "    return accuracy, precision, recall, f1_score\n",
    "\n",
    "print('Accuracy, Precision, Recall, F1 Score')\n",
    "print(calculate_recall_precision(cm))"
   ]
  },
  {
   "cell_type": "code",
   "execution_count": 0,
   "metadata": {
    "application/vnd.databricks.v1+cell": {
     "cellMetadata": {},
     "inputWidgets": {},
     "nuid": "85dd104e-b379-4ab2-828e-c6f738dcf2cd",
     "showTitle": false,
     "title": ""
    }
   },
   "outputs": [],
   "source": [
    "# MODEL EVALUATION SECTION\n",
    "# RUN CROSS-VALIDATOR ON TRAINING DATA\n",
    "\n",
    "# Create a BinaryClassificationEvaluator to evaluate how well the model works\n",
    "evaluator = BinaryClassificationEvaluator(metricName=\"areaUnderROC\")\n",
    "\n",
    "# Create the parameter grid (empty for now)\n",
    "grid = ParamGridBuilder().build()\n",
    "\n",
    "# Create the CrossValidator\n",
    "cv = CrossValidator(estimator=lr, estimatorParamMaps=grid, evaluator=evaluator, numFolds=3 )\n",
    "\n",
    "# Use the CrossValidator to Fit the training data\n",
    "cv = cv.fit(trainingData)\n",
    "\n",
    "# Show the average performance over the three folds\n",
    "print('cv.avgMetrics:', cv.avgMetrics)"
   ]
  },
  {
   "cell_type": "code",
   "execution_count": 0,
   "metadata": {
    "application/vnd.databricks.v1+cell": {
     "cellMetadata": {},
     "inputWidgets": {},
     "nuid": "d1388df6-6fbc-4e01-8aa1-423b154089b6",
     "showTitle": false,
     "title": ""
    }
   },
   "outputs": [],
   "source": [
    "# MODEL EVALUATION SECTION\n",
    "\n",
    "# Evaluate the test data using the cross-validator model\n",
    "# Reminder: We used Area Under the Curve\n",
    "print('evaluator.evaluate(cv.transform(testData)):', evaluator.evaluate(cv.transform(testData)))"
   ]
  },
  {
   "cell_type": "code",
   "execution_count": 0,
   "metadata": {
    "application/vnd.databricks.v1+cell": {
     "cellMetadata": {},
     "inputWidgets": {},
     "nuid": "87cabf30-87c4-4f92-ab5d-6aed02cbd608",
     "showTitle": false,
     "title": ""
    }
   },
   "outputs": [],
   "source": [
    "# MODEL EVALUATION SECTION \n",
    "# PARAMETER GRID SEARCH\n",
    "\n",
    "# Create a grid to hold hyperparameters\n",
    "grid = ParamGridBuilder()\n",
    "grid = grid.addGrid(lr.regParam, [0.0, 1.0] )\n",
    "grid = grid.addGrid(lr.elasticNetParam, [0, 1])\n",
    "\n",
    "# Build the grid\n",
    "grid = grid.build()\n",
    "print('Number of models to be tested:', len(grid))\n",
    "\n",
    "# Create the CrossValidator using the new hyperparameter grid\n",
    "cv = CrossValidator(estimator=lr, estimatorParamMaps=grid, evaluator=evaluator)\n",
    "\n",
    "# Call cv.fit() to create models with all of the combinations of parameters in the grid\n",
    "all_models = cv.fit(trainingData)\n",
    "print(\"Average Metrics for Each model:\", all_models.avgMetrics)"
   ]
  },
  {
   "cell_type": "code",
   "execution_count": 0,
   "metadata": {
    "application/vnd.databricks.v1+cell": {
     "cellMetadata": {},
     "inputWidgets": {},
     "nuid": "59f458b4-2c0e-4417-8f6e-7262735a984a",
     "showTitle": false,
     "title": ""
    }
   },
   "outputs": [],
   "source": [
    "# MODEL EVALUATION SECTION\n",
    "# CHARACTERISTICS OF BEST MODEL\n",
    "\n",
    "# Gather the metrics and parameters of the model with the best average metrics\n",
    "hyperparams = all_models.getEstimatorParamMaps()[np.argmax(all_models.avgMetrics)]\n",
    "\n",
    "# Print out the list of hyperparameters for the best model\n",
    "for i in range(len(hyperparams.items())):\n",
    "    print([x for x in hyperparams.items()][i])\n",
    "\n",
    "#(Param(parent='LogisticRegression_2effdf339a6c', name='regParam', doc='regularization parameter (>= 0).'), 0.4)\n",
    "#(Param(parent='LogisticRegression_2effdf339a6c', name='elasticNetParam', doc='the ElasticNet mixing parameter, in range [0, 1]. For alpha = 0, the penalty is an L2 penalty. For alpha = 1, it is an L1 penalty.'), 0.0)\n",
    "\n",
    "# Choose the best model\n",
    "bestModel = all_models.bestModel\n",
    "print(\"Area under ROC curve:\", bestModel.summary.areaUnderROC)\n",
    "\n",
    "# Area under ROC curve: 1.0"
   ]
  },
  {
   "cell_type": "code",
   "execution_count": 0,
   "metadata": {
    "application/vnd.databricks.v1+cell": {
     "cellMetadata": {},
     "inputWidgets": {},
     "nuid": "b2d16ad0-c470-4a89-a943-01ec043801fe",
     "showTitle": false,
     "title": ""
    }
   },
   "outputs": [],
   "source": [
    "# MODEL EVALUATION SECTION\n",
    "# TEST BEST MODEL ON TEST DATA\n",
    "\n",
    "# Use the model 'bestModel' to predict the test set\n",
    "test_results = bestModel.transform(testData)\n",
    "\n",
    "# Show the results\n",
    "# test_results.select('trip_miles', 'trip_time_secs', 'total_wait_secs', 'pickup_time_of_day', 'day_name', 'weekday_or_weekend', 'total_fare', 'tip_percent','probability','prediction', 'label').show(truncate=False)\n",
    "\n",
    "# Evaluate the predictions. Area Under ROC curve\n",
    "print('evaluator.evaluate(test_results):', evaluator.evaluate(test_results))"
   ]
  }
 ],
 "metadata": {
  "application/vnd.databricks.v1+notebook": {
   "dashboards": [],
   "language": "python",
   "notebookMetadata": {
    "pythonIndentUnit": 4
   },
   "notebookName": "HVFHV PySpark - Model Evaluation",
   "widgets": {}
  }
 },
 "nbformat": 4,
 "nbformat_minor": 0
}
